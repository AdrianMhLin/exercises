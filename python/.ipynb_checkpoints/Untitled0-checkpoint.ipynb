{
 "metadata": {
  "name": "",
  "signature": "sha256:4cb6450fff8befb3a635c9a466de27661ce8227e2a31e65050f384f882912366"
 },
 "nbformat": 3,
 "nbformat_minor": 0,
 "worksheets": []
}